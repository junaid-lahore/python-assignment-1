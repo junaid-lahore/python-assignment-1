{
 "cells": [
  {
   "cell_type": "code",
   "execution_count": 1,
   "metadata": {},
   "outputs": [
    {
     "name": "stdout",
     "output_type": "stream",
     "text": [
      "Twinkle, twinkle, little star, \n",
      "      How I wonder what you are! \n",
      "            Up above the world so high,\n",
      "            Like a diamond in the sky. \n",
      "Twinkle, twinkle, little star, \n",
      "      How I wonder what you are\n"
     ]
    }
   ],
   "source": [
    "#Task no.1\n",
    "multiline_string = '''Twinkle, twinkle, little star, \n",
    "      How I wonder what you are! \n",
    "            Up above the world so high,\n",
    "            Like a diamond in the sky. \n",
    "Twinkle, twinkle, little star, \n",
    "      How I wonder what you are'''\n",
    "print(multiline_string)"
   ]
  },
  {
   "cell_type": "code",
   "execution_count": 2,
   "metadata": {},
   "outputs": [
    {
     "name": "stdout",
     "output_type": "stream",
     "text": [
      "3.7.1 (default, Dec 10 2018, 22:54:23) [MSC v.1915 64 bit (AMD64)]\n",
      "3.7.1\n"
     ]
    }
   ],
   "source": [
    "#Task no.2\n",
    "import sys\n",
    "print(sys.version)\n",
    "#or\n",
    "from platform import python_version\n",
    "print(python_version())"
   ]
  },
  {
   "cell_type": "code",
   "execution_count": 3,
   "metadata": {},
   "outputs": [
    {
     "name": "stdout",
     "output_type": "stream",
     "text": [
      "2019-11-04 16:04:34\n"
     ]
    }
   ],
   "source": [
    "#Task no.3\n",
    "import datetime\n",
    "now = datetime.datetime.now()\n",
    "print(now.strftime(\"%Y-%m-%d %H:%M:%S\"))"
   ]
  },
  {
   "cell_type": "code",
   "execution_count": 4,
   "metadata": {},
   "outputs": [
    {
     "name": "stdout",
     "output_type": "stream",
     "text": [
      "Enter the radius of the circle : 15\n",
      "Area of the circle is :  706.5\n"
     ]
    }
   ],
   "source": [
    "#Task no.4\n",
    "PI = 3.14\n",
    "r = int(input('Enter the radius of the circle : '))\n",
    "area = PI * r * r\n",
    "print(\"Area of the circle is : \",area)"
   ]
  },
  {
   "cell_type": "code",
   "execution_count": 5,
   "metadata": {},
   "outputs": [
    {
     "name": "stdout",
     "output_type": "stream",
     "text": [
      "What is your first name? Junaid\n",
      "What is your last name? Tariq\n",
      "Tariq Junaid\n"
     ]
    }
   ],
   "source": [
    "#Task no.5\n",
    "first_name = input('What is your first name? ')\n",
    "last_name = input('What is your last name? ')\n",
    "name_of_the_user = last_name + \" \" + first_name\n",
    "print(name_of_the_user)"
   ]
  },
  {
   "cell_type": "code",
   "execution_count": 6,
   "metadata": {},
   "outputs": [
    {
     "name": "stdout",
     "output_type": "stream",
     "text": [
      "Write first value: 25\n",
      "Write second value35\n",
      "60\n",
      "First input: Junaid\n",
      "Second input: Tariq\n",
      "JunaidTariq\n"
     ]
    }
   ],
   "source": [
    "#Task no.6\n",
    "#Actually i couldn't understand what is the question\n",
    "#if addition means sum of two values, then\n",
    "a = int(input('Write first value: '))\n",
    "b = int(input('Write second value'))\n",
    "c = a+b\n",
    "print(c)\n",
    "#and if addition means concatenation, then\n",
    "first = input('First input: ')\n",
    "second = input('Second input: ')\n",
    "addition = first + second\n",
    "print(addition)"
   ]
  },
  {
   "cell_type": "code",
   "execution_count": null,
   "metadata": {},
   "outputs": [],
   "source": []
  }
 ],
 "metadata": {
  "kernelspec": {
   "display_name": "Python 3",
   "language": "python",
   "name": "python3"
  },
  "language_info": {
   "codemirror_mode": {
    "name": "ipython",
    "version": 3
   },
   "file_extension": ".py",
   "mimetype": "text/x-python",
   "name": "python",
   "nbconvert_exporter": "python",
   "pygments_lexer": "ipython3",
   "version": "3.7.1"
  }
 },
 "nbformat": 4,
 "nbformat_minor": 2
}
